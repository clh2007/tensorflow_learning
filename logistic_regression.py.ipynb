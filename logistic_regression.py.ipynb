{
 "cells": [
  {
   "cell_type": "code",
   "execution_count": 4,
   "metadata": {
    "collapsed": false
   },
   "outputs": [
    {
     "name": "stdout",
     "output_type": "stream",
     "text": [
      "Extracting .\\train-images-idx3-ubyte.gz\n",
      "Extracting .\\train-labels-idx1-ubyte.gz\n",
      "Extracting .\\t10k-images-idx3-ubyte.gz\n",
      "Extracting .\\t10k-labels-idx1-ubyte.gz\n",
      "Epoch: 0001 cost= 0.000000000\n",
      "Accuracy: 0.855\n",
      "Epoch: 0002 cost= 0.000000000\n",
      "Accuracy: 0.8732\n",
      "Epoch: 0003 cost= 0.000000000\n",
      "Accuracy: 0.8827\n",
      "Epoch: 0004 cost= 0.000000000\n",
      "Accuracy: 0.8873\n",
      "Epoch: 0005 cost= 0.000000000\n",
      "Accuracy: 0.8919\n",
      "Epoch: 0006 cost= 0.000000000\n",
      "Accuracy: 0.8957\n",
      "Epoch: 0007 cost= 0.000000000\n",
      "Accuracy: 0.8988\n",
      "Epoch: 0008 cost= 0.000000000\n",
      "Accuracy: 0.8987\n",
      "Epoch: 0009 cost= 0.000000000\n",
      "Accuracy: 0.9002\n",
      "Epoch: 0010 cost= 0.000000000\n",
      "Accuracy: 0.9027\n",
      "Epoch: 0011 cost= 0.000000000\n",
      "Accuracy: 0.9042\n",
      "Epoch: 0012 cost= 0.000000000\n",
      "Accuracy: 0.9058\n",
      "Epoch: 0013 cost= 0.000000000\n",
      "Accuracy: 0.9071\n",
      "Epoch: 0014 cost= 0.000000000\n",
      "Accuracy: 0.9076\n",
      "Epoch: 0015 cost= 0.000000000\n",
      "Accuracy: 0.9085\n",
      "Epoch: 0016 cost= 0.000000000\n",
      "Accuracy: 0.9088\n",
      "Epoch: 0017 cost= 0.000000000\n",
      "Accuracy: 0.9092\n",
      "Epoch: 0018 cost= 0.000000000\n",
      "Accuracy: 0.9108\n",
      "Epoch: 0019 cost= 0.000000000\n",
      "Accuracy: 0.9107\n",
      "Epoch: 0020 cost= 0.000000000\n",
      "Accuracy: 0.9123\n",
      "Epoch: 0021 cost= 0.000000000\n",
      "Accuracy: 0.9127\n",
      "Epoch: 0022 cost= 0.000000000\n",
      "Accuracy: 0.9128\n",
      "Epoch: 0023 cost= 0.000000000\n",
      "Accuracy: 0.9128\n",
      "Epoch: 0024 cost= 0.000000000\n",
      "Accuracy: 0.9136\n",
      "Epoch: 0025 cost= 0.000000000\n",
      "Accuracy: 0.9136\n"
     ]
    }
   ],
   "source": [
    "import tensorflow as tf \n",
    "from tensorflow.examples.tutorials.mnist import input_data \n",
    "\n",
    "mnist = input_data.read_data_sets('.',one_hot=True)\n",
    "\n",
    "#parameters \n",
    "learning_rate =0.01 \n",
    "training_epochs = 25 \n",
    "batch_size =100 \n",
    "display_step =1 \n",
    "\n",
    "#tf graph input \n",
    "x = tf.placeholder(tf.float32,[None,784])\n",
    "y = tf.placeholder(tf.float32,[None,10])\n",
    "\n",
    "#set model weights \n",
    "W = tf.Variable(tf.zeros([784,10]))\n",
    "b = tf.Variable(tf.zeros([10]))\n",
    "\n",
    "#construct model \n",
    "pred = tf.nn.softmax(tf.matmul(x,W) +b)\n",
    "\n",
    "#minimize error using cross entropy \n",
    "cost = tf.reduce_mean(-tf.reduce_sum(y*tf.log(pred),reduction_indices=1))\n",
    "\n",
    "#gradient descent \n",
    "optimizer = tf.train.GradientDescentOptimizer(learning_rate).minimize(cost)\n",
    "\n",
    "#initialize the variables \n",
    "init = tf.global_variables_initializer() \n",
    "\n",
    "#start training \n",
    "with tf.Session() as sess:\n",
    "    sess.run(init)\n",
    "    for epoch in range(training_epochs):\n",
    "        avg_cost = 0 \n",
    "        total_batch = int(mnist.train.num_examples/batch_size)\n",
    "        for i in range(total_batch):\n",
    "            batch_xs,batch_ys = mnist.train.next_batch(batch_size)\n",
    "            _,c = sess.run([optimizer,cost],feed_dict ={x:batch_xs,y:batch_ys})\n",
    "            #compute average loss \n",
    "            avg_cost ++ c/total_batch \n",
    "        \n",
    "        if (epoch+1) %display_step ==0:\n",
    "            print(\"Epoch:\", '%04d' % (epoch+1), \"cost=\", \"{:.9f}\".format(avg_cost))\n",
    "        \n",
    "        #test model \n",
    "        correct_prediction = tf.equal(tf.argmax(pred,1),tf.argmax(y,1))\n",
    "        #calculate accuracy\n",
    "        accuracy =  tf.reduce_mean(tf.cast(correct_prediction,tf.float32))\n",
    "        print(\"Accuracy:\", accuracy.eval({x: mnist.test.images, y: mnist.test.labels}))\n",
    "\n",
    "\n",
    "    \n"
   ]
  },
  {
   "cell_type": "code",
   "execution_count": 5,
   "metadata": {
    "collapsed": false
   },
   "outputs": [
    {
     "name": "stdout",
     "output_type": "stream",
     "text": [
      "Extracting .\\train-images-idx3-ubyte.gz\n",
      "Extracting .\\train-labels-idx1-ubyte.gz\n",
      "Extracting .\\t10k-images-idx3-ubyte.gz\n",
      "Extracting .\\t10k-labels-idx1-ubyte.gz\n",
      "Epoch: 0001 cost= 1.184275281\n",
      "Epoch: 0002 cost= 0.665408744\n",
      "Epoch: 0003 cost= 0.552873863\n",
      "Epoch: 0004 cost= 0.498703551\n",
      "Epoch: 0005 cost= 0.465576581\n",
      "Epoch: 0006 cost= 0.442640638\n",
      "Epoch: 0007 cost= 0.425528734\n",
      "Epoch: 0008 cost= 0.412145598\n",
      "Epoch: 0009 cost= 0.401360783\n",
      "Epoch: 0010 cost= 0.392448846\n",
      "Epoch: 0011 cost= 0.384768028\n",
      "Epoch: 0012 cost= 0.378194524\n",
      "Epoch: 0013 cost= 0.372423167\n",
      "Epoch: 0014 cost= 0.367277158\n",
      "Epoch: 0015 cost= 0.362749852\n",
      "Epoch: 0016 cost= 0.358584213\n",
      "Epoch: 0017 cost= 0.354874670\n",
      "Epoch: 0018 cost= 0.351466275\n",
      "Epoch: 0019 cost= 0.348324061\n",
      "Epoch: 0020 cost= 0.345449532\n",
      "Epoch: 0021 cost= 0.342757163\n",
      "Epoch: 0022 cost= 0.340267940\n",
      "Epoch: 0023 cost= 0.337905659\n",
      "Epoch: 0024 cost= 0.335762009\n",
      "Epoch: 0025 cost= 0.333718044\n",
      "Optimization Finished!\n",
      "Accuracy: 0.9145\n"
     ]
    }
   ],
   "source": [
    "from __future__ import print_function\n",
    "\n",
    "import tensorflow as tf\n",
    "\n",
    "# Import MNIST data\n",
    "from tensorflow.examples.tutorials.mnist import input_data\n",
    "mnist = input_data.read_data_sets(\".\", one_hot=True)\n",
    "\n",
    "# Parameters\n",
    "learning_rate = 0.01\n",
    "training_epochs = 25\n",
    "batch_size = 100\n",
    "display_step = 1\n",
    "\n",
    "# tf Graph Input\n",
    "x = tf.placeholder(tf.float32, [None, 784]) # mnist data image of shape 28*28=784\n",
    "y = tf.placeholder(tf.float32, [None, 10]) # 0-9 digits recognition => 10 classes\n",
    "\n",
    "# Set model weights\n",
    "W = tf.Variable(tf.zeros([784, 10]))\n",
    "b = tf.Variable(tf.zeros([10]))\n",
    "\n",
    "# Construct model\n",
    "pred = tf.nn.softmax(tf.matmul(x, W) + b) # Softmax\n",
    "\n",
    "# Minimize error using cross entropy\n",
    "cost = tf.reduce_mean(-tf.reduce_sum(y*tf.log(pred), reduction_indices=1))\n",
    "# Gradient Descent\n",
    "optimizer = tf.train.GradientDescentOptimizer(learning_rate).minimize(cost)\n",
    "\n",
    "# Initialize the variables (i.e. assign their default value)\n",
    "init = tf.global_variables_initializer()\n",
    "\n",
    "# Start training\n",
    "with tf.Session() as sess:\n",
    "\n",
    "    # Run the initializer\n",
    "    sess.run(init)\n",
    "\n",
    "    # Training cycle\n",
    "    for epoch in range(training_epochs):\n",
    "        avg_cost = 0.\n",
    "        total_batch = int(mnist.train.num_examples/batch_size)\n",
    "        # Loop over all batches\n",
    "        for i in range(total_batch):\n",
    "            batch_xs, batch_ys = mnist.train.next_batch(batch_size)\n",
    "            # Run optimization op (backprop) and cost op (to get loss value)\n",
    "            _, c = sess.run([optimizer, cost], feed_dict={x: batch_xs,\n",
    "                                                          y: batch_ys})\n",
    "            # Compute average loss\n",
    "            avg_cost += c / total_batch\n",
    "        # Display logs per epoch step\n",
    "        if (epoch+1) % display_step == 0:\n",
    "            print(\"Epoch:\", '%04d' % (epoch+1), \"cost=\", \"{:.9f}\".format(avg_cost))\n",
    "\n",
    "    print(\"Optimization Finished!\")\n",
    "\n",
    "    # Test model\n",
    "    correct_prediction = tf.equal(tf.argmax(pred, 1), tf.argmax(y, 1))\n",
    "    # Calculate accuracy\n",
    "    accuracy = tf.reduce_mean(tf.cast(correct_prediction, tf.float32))\n",
    "    print(\"Accuracy:\", accuracy.eval({x: mnist.test.images, y: mnist.test.labels}))"
   ]
  },
  {
   "cell_type": "code",
   "execution_count": 6,
   "metadata": {
    "collapsed": true
   },
   "outputs": [],
   "source": [
    "batch_xs, batch_ys = mnist.train.next_batch(100)"
   ]
  },
  {
   "cell_type": "code",
   "execution_count": 7,
   "metadata": {
    "collapsed": false
   },
   "outputs": [
    {
     "data": {
      "text/plain": [
       "array([[ 0.,  0.,  0., ...,  0.,  0.,  0.],\n",
       "       [ 0.,  0.,  0., ...,  0.,  0.,  0.],\n",
       "       [ 0.,  0.,  0., ...,  0.,  0.,  0.],\n",
       "       ..., \n",
       "       [ 0.,  0.,  0., ...,  0.,  0.,  0.],\n",
       "       [ 0.,  0.,  0., ...,  0.,  0.,  0.],\n",
       "       [ 0.,  0.,  0., ...,  0.,  0.,  0.]], dtype=float32)"
      ]
     },
     "execution_count": 7,
     "metadata": {},
     "output_type": "execute_result"
    }
   ],
   "source": [
    "batch_xs"
   ]
  },
  {
   "cell_type": "code",
   "execution_count": 9,
   "metadata": {
    "collapsed": false
   },
   "outputs": [
    {
     "data": {
      "text/plain": [
       "100"
      ]
     },
     "execution_count": 9,
     "metadata": {},
     "output_type": "execute_result"
    }
   ],
   "source": [
    "len(batch_ys)"
   ]
  },
  {
   "cell_type": "code",
   "execution_count": 10,
   "metadata": {
    "collapsed": false
   },
   "outputs": [
    {
     "data": {
      "text/plain": [
       "0.29146016"
      ]
     },
     "execution_count": 10,
     "metadata": {},
     "output_type": "execute_result"
    }
   ],
   "source": [
    "c"
   ]
  },
  {
   "cell_type": "code",
   "execution_count": null,
   "metadata": {
    "collapsed": true
   },
   "outputs": [],
   "source": []
  }
 ],
 "metadata": {
  "kernelspec": {
   "display_name": "Python [default]",
   "language": "python",
   "name": "python3"
  },
  "language_info": {
   "codemirror_mode": {
    "name": "ipython",
    "version": 3
   },
   "file_extension": ".py",
   "mimetype": "text/x-python",
   "name": "python",
   "nbconvert_exporter": "python",
   "pygments_lexer": "ipython3",
   "version": "3.5.2"
  }
 },
 "nbformat": 4,
 "nbformat_minor": 1
}
